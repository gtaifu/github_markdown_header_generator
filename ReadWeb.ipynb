{
 "cells": [
  {
   "cell_type": "code",
   "execution_count": 134,
   "metadata": {},
   "outputs": [],
   "source": [
    "class header():\n",
    "    def __init__(self, content='', level=-1, is_virtual=False):\n",
    "        self.is_virtual = is_virtual  # vritual header is used for the section title which directly starts from higher levels.\n",
    "        self.header_title = content\n",
    "        self.my_level = level    # level starts from 0.\n",
    "        self.my_order = 0\n",
    "        self.child_headers = []\n",
    "\n",
    "    def assign_order(self):\n",
    "#         print('hello')\n",
    "        order = 1\n",
    "        for header in self.child_headers:\n",
    "            header.my_order = order\n",
    "            order = order + 1\n",
    "            print(\"Header: \", header.header_title, \"order is:\", order)\n",
    "            header.assign_order()\n",
    "\n",
    "    def add_child_header(self, new_section_header):\n",
    "        self.child_headers.append(new_section_header)\n",
    "\n",
    "    def absorb(self, new_header):\n",
    "#         print(\"new_header: \", new_header.my_level, new_header.header_title)\n",
    "        if new_header.my_level <= self.my_level:\n",
    "            raise ValueError(\"The new header has a higher level ({}) than the current level({}).\".format(new_header.my_level, self.my_level))\n",
    "\n",
    "        if new_header.my_level == self.my_level + 1:\n",
    "            self.child_headers.append(new_header)\n",
    "        else:\n",
    "            if len(self.child_headers) == 0:\n",
    "                self.child_headers.append(header('', self.my_level + 1, True))\n",
    "\n",
    "            self.child_headers[-1].absorb(new_header)\n",
    "\n",
    "#         print(\"Print after absorbing.\")\n",
    "#         self.print_headers()\n",
    "\n",
    "    def get_level_symbol(self, sym):\n",
    "        if not isinstance(sym, str):\n",
    "            raise ValueError(\"Given symbol format ({}) not correct, which must be a string.\".format(sym))\n",
    "\n",
    "        return  sym * self.my_level\n",
    "\n",
    "    def print_headers(self, print_level=False, order_info=''):\n",
    "        if self.my_level == -1:\n",
    "            new_order_info = ''\n",
    "        elif self.my_level == 0:\n",
    "            new_order_info = str(self.my_order)\n",
    "        else:\n",
    "            new_order_info = order_info + '.' + str(self.my_order)\n",
    "\n",
    "        if not self.is_virtual and self.my_level != -1:\n",
    "            print(\"{} {} {}\".format(self.get_level_symbol(' '), new_order_info, self.header_title))\n",
    "\n",
    "        for child_header in self.child_headers:\n",
    "            child_header.print_headers(print_level, new_order_info)\n",
    "\n",
    "        "
   ]
  },
  {
   "cell_type": "code",
   "execution_count": 135,
   "metadata": {},
   "outputs": [],
   "source": [
    "def get_content_level(strip_line):\n",
    "    head, sep, tail = strip_line.partition(' ')\n",
    "    num_of_sharp = len(head)  # count how many '#' there are\n",
    "    section_title = tail.strip()\n",
    "    print(num_of_sharp - 1, section_title)\n",
    "    return section_title, num_of_sharp - 1\n",
    "\n",
    "def retrieve_headers(input_fn):\n",
    "    try:\n",
    "        md_f = open(input_fn, 'r')\n",
    "    except:\n",
    "        raise OSError(\"Fail to open the file: \", input_fn)\n",
    "\n",
    "    headers = header()\n",
    "    for line in md_f:\n",
    "        strip_line = line.strip()\n",
    "        \n",
    "        if not (len(strip_line) > 0 and strip_line[0] == '#'):\n",
    "            continue\n",
    "        \n",
    "        section_title, level = get_content_level(strip_line)\n",
    "        new_header = header(section_title, level)\n",
    "        \n",
    "        headers.absorb(new_header)\n",
    "#         print(\"\\n======================== start printing header. ========================\")\n",
    "#         headers.print_headers(True)\n",
    "#         print(\"======================== End of printing header. ========================\\n\")\n",
    "    \n",
    "    headers.assign_order()\n",
    "    headers.print_headers(True)\n",
    "    return headers"
   ]
  },
  {
   "cell_type": "code",
   "execution_count": 136,
   "metadata": {},
   "outputs": [
    {
     "name": "stdout",
     "output_type": "stream",
     "text": [
      "1 Overview\n",
      "2 Classical Pipeline\n",
      "2 Timestamp Manager\n",
      "2 VLIW Pipelane\n",
      "3 Mask Manager\n",
      "3 Microcode Unit\n",
      "3 Address Resolver\n",
      "2 Device Event Dispatcher\n",
      "2 Timing Control Unit\n",
      "2 Binary Control\n",
      "1 Example\n",
      "2 Quantum Wait (`QWAIT 10000`)\n",
      "2 Set Mask (`SMIS` & `SMIT`)\n",
      "2 Quantum Bundle\n",
      "3 _pre_interval_ (`2`)\n",
      "3 Single-qubit operation (`X s8`)\n",
      "3 Two-qubit Operation (`CZ t17`)\n",
      "Header:   order is: 2\n",
      "Header:  Overview order is: 2\n",
      "Header:  Classical Pipeline order is: 2\n",
      "Header:  Timestamp Manager order is: 3\n",
      "Header:  VLIW Pipelane order is: 4\n",
      "Header:  Mask Manager order is: 2\n",
      "Header:  Microcode Unit order is: 3\n",
      "Header:  Address Resolver order is: 4\n",
      "Header:  Device Event Dispatcher order is: 5\n",
      "Header:  Timing Control Unit order is: 6\n",
      "Header:  Binary Control order is: 7\n",
      "Header:  Example order is: 3\n",
      "Header:  Quantum Wait (`QWAIT 10000`) order is: 2\n",
      "Header:  Set Mask (`SMIS` & `SMIT`) order is: 3\n",
      "Header:  Quantum Bundle order is: 4\n",
      "Header:  _pre_interval_ (`2`) order is: 2\n",
      "Header:  Single-qubit operation (`X s8`) order is: 3\n",
      "Header:  Two-qubit Operation (`CZ t17`) order is: 4\n",
      "  1.1 Overview\n",
      "   1.1.1 Classical Pipeline\n",
      "   1.1.2 Timestamp Manager\n",
      "   1.1.3 VLIW Pipelane\n",
      "    1.1.3.1 Mask Manager\n",
      "    1.1.3.2 Microcode Unit\n",
      "    1.1.3.3 Address Resolver\n",
      "   1.1.4 Device Event Dispatcher\n",
      "   1.1.5 Timing Control Unit\n",
      "   1.1.6 Binary Control\n",
      "  1.2 Example\n",
      "   1.2.1 Quantum Wait (`QWAIT 10000`)\n",
      "   1.2.2 Set Mask (`SMIS` & `SMIT`)\n",
      "   1.2.3 Quantum Bundle\n",
      "    1.2.3.1 _pre_interval_ (`2`)\n",
      "    1.2.3.2 Single-qubit operation (`X s8`)\n",
      "    1.2.3.3 Two-qubit Operation (`CZ t17`)\n"
     ]
    }
   ],
   "source": [
    "input_fn = r\"D:\\Projects\\ElecPrj_CCLight.wiki\\Instruction-Execution-Procedure.md\"\n",
    "headers = retrieve_headers(input_fn)"
   ]
  },
  {
   "cell_type": "code",
   "execution_count": 118,
   "metadata": {
    "collapsed": true
   },
   "outputs": [],
   "source": [
    "def retrieve_plain_headers(input_fn):\n",
    "    try:\n",
    "        md_f = open(input_fn, 'r')\n",
    "    except:\n",
    "        raise OSError(\"Fail to open the file: \", input_fn)\n",
    "\n",
    "    headers = []\n",
    "    for line in md_f:\n",
    "        strip_line = line.strip()\n",
    "        if len(strip_line) > 0 and strip_line[0] == '#':\n",
    "            head, sep, tail = strip_line.partition(' ')\n",
    "            num_of_sharp = len(head)  # count how many '#' there are\n",
    "            section_header = tail.strip()\n",
    "            new_header = header(num_of_sharp, section_header)\n",
    "            \n",
    "            headers.append(header)\n",
    "\n",
    "    return headers"
   ]
  },
  {
   "cell_type": "code",
   "execution_count": 7,
   "metadata": {},
   "outputs": [],
   "source": [
    "def get_top_level(headers):\n",
    "    return min(headers, key = lambda item:item[0])[0]\n",
    "\n",
    "def shift_level(headers, top_level):\n",
    "    return [(item[0] - top_level + 1, item[1]) for item in headers]"
   ]
  },
  {
   "cell_type": "code",
   "execution_count": 8,
   "metadata": {},
   "outputs": [
    {
     "name": "stdout",
     "output_type": "stream",
     "text": [
      "[(1, 'Overview'), (2, 'Classical Pipeline'), (2, 'Timestamp Manager'), (2, 'VLIW Pipelane'), (3, 'Mask Manager'), (3, 'Microcode Unit'), (3, 'Address Resolver'), (2, 'Device Event Dispatcher'), (2, 'Timing Control Unit'), (2, 'Binary Control'), (1, 'Example'), (2, 'Quantum Wait (`QWAIT 10000`)'), (2, 'Set Mask (`SMIS` & `SMIT`)'), (2, 'Quantum Bundle'), (3, '_pre_interval_ (`2`)'), (3, 'Single-qubit operation (`X s8`)'), (3, 'Two-qubit Operation (`CZ t17`)')]\n",
      "-  Overview\n",
      "-  Example\n"
     ]
    }
   ],
   "source": [
    "top_level = get_top_level(headers)\n",
    "headers = shift_level(headers, top_level)\n",
    "\n",
    "print(headers)\n",
    "\n",
    "add_counter = True\n",
    "\n",
    "counter = 0\n",
    "for i in range(len(headers)):\n",
    "    header = headers[i]\n",
    "    if header[0] == 1:\n",
    "        counter += 1\n",
    "        if add_counter:\n",
    "            print(\"- \", header[1])"
   ]
  },
  {
   "cell_type": "code",
   "execution_count": null,
   "metadata": {
    "collapsed": true
   },
   "outputs": [],
   "source": [
    "def gen_toc(headers):\n",
    "    top_level = get_top_level(headers)\n",
    "    headers = shift_level(headers, top_level)\n",
    "    for i in range(len(headers)):\n",
    "        for "
   ]
  },
  {
   "cell_type": "code",
   "execution_count": 96,
   "metadata": {},
   "outputs": [
    {
     "data": {
      "text/plain": [
       "9"
      ]
     },
     "execution_count": 96,
     "metadata": {},
     "output_type": "execute_result"
    }
   ],
   "source": [
    "a = [9, 2, 3, 4, 6]\n",
    "max (a, key=lambda item:(item))"
   ]
  },
  {
   "cell_type": "code",
   "execution_count": 99,
   "metadata": {},
   "outputs": [],
   "source": [
    "lis=[(101, 153), (362, 827), (361, 961)]"
   ]
  },
  {
   "cell_type": "code",
   "execution_count": 111,
   "metadata": {},
   "outputs": [
    {
     "data": {
      "text/plain": [
       "'kun kun'"
      ]
     },
     "execution_count": 111,
     "metadata": {},
     "output_type": "execute_result"
    }
   ],
   "source": [
    "\"   kun kun   \".strip()"
   ]
  },
  {
   "cell_type": "code",
   "execution_count": 114,
   "metadata": {},
   "outputs": [],
   "source": [
    "a = 'kun kun'"
   ]
  },
  {
   "cell_type": "code",
   "execution_count": 117,
   "metadata": {},
   "outputs": [
    {
     "name": "stdout",
     "output_type": "stream",
     "text": [
      "a[0]: k\n",
      "a[1]: u\n",
      "a[2]: n\n",
      "a[3]:  \n",
      "a[4]: k\n",
      "a[5]: u\n",
      "a[6]: n\n"
     ]
    }
   ],
   "source": [
    "for i in range(len(a)):\n",
    "    print(\"a[{}]: {}\".format(i, a[i]))"
   ]
  },
  {
   "cell_type": "code",
   "execution_count": 113,
   "metadata": {},
   "outputs": [
    {
     "data": {
      "text/plain": [
       "7"
      ]
     },
     "execution_count": 113,
     "metadata": {},
     "output_type": "execute_result"
    }
   ],
   "source": [
    "len(\"   kun kun   \".strip())"
   ]
  },
  {
   "cell_type": "code",
   "execution_count": null,
   "metadata": {
    "collapsed": true
   },
   "outputs": [],
   "source": []
  }
 ],
 "metadata": {
  "kernelspec": {
   "display_name": "Python 3",
   "language": "python",
   "name": "python3"
  },
  "language_info": {
   "codemirror_mode": {
    "name": "ipython",
    "version": 3
   },
   "file_extension": ".py",
   "mimetype": "text/x-python",
   "name": "python",
   "nbconvert_exporter": "python",
   "pygments_lexer": "ipython3",
   "version": "3.6.1"
  }
 },
 "nbformat": 4,
 "nbformat_minor": 2
}
