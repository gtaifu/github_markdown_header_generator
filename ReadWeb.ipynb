{
 "cells": [
  {
   "cell_type": "code",
   "execution_count": 5,
   "metadata": {
    "collapsed": false
   },
   "outputs": [
    {
     "name": "stdout",
     "output_type": "stream",
     "text": [
      "   1 [h3 level](#h3-level)\n",
      " 2 [h1 header](#h1-header)\n",
      "  1 [Good h2 Header](#good-h2-header)\n",
      "  2 [The Second h2 Header 中文](#the-second-h2-header-中文)\n",
      " 3 [h1 Header](#h1-header-1)\n",
      "   1 [Direct h3 Header](#direct-h3-header)\n",
      "    1 [H4 header](#h4-header)\n",
      "  2 [Third h2 header](#third-h2-header)\n",
      "  3 [Third h2 header](#third-h2-header-1)\n",
      "None\n"
     ]
    }
   ],
   "source": [
    "%run D:/GitHub/github_markdown_header_generator/gen_gfm_toc.py\n",
    "\n",
    "input_fn = r\"Example.md\"\n",
    "headers = retrieve_headers(input_fn)\n",
    "headers.assign_child_sec_num()\n",
    "headers.gen_gfm_anchor()\n",
    "# headers.print_headers(True)\n",
    "print(headers.print_gfm_toc())\n"
   ]
  },
  {
   "cell_type": "code",
   "execution_count": 39,
   "metadata": {
    "collapsed": false
   },
   "outputs": [
    {
     "name": "stdout",
     "output_type": "stream",
     "text": [
      "0 00e9 Ll LATIN SMALL LETTER E WITH ACUTE\n",
      "1 0bf2 No TAMIL NUMBER ONE THOUSAND\n",
      "2 0f84 Mn TIBETAN MARK HALANTA\n",
      "3 1770 Lo TAGBANWA LETTER SA\n",
      "4 33af So SQUARE RAD OVER S SQUARED\n",
      "1000.0\n"
     ]
    }
   ],
   "source": [
    "import unicodedata\n",
    "\n",
    "u = chr(233) + chr(0x0bf2) + chr(3972) + chr(6000) + chr(13231)\n",
    "\n",
    "for i, c in enumerate(u):\n",
    "    print(i, '%04x' % ord(c), unicodedata.category(c), end=\" \")\n",
    "    print(unicodedata.name(c))\n",
    "\n",
    "# Get numeric value of second character\n",
    "print(unicodedata.numeric(u[1]))"
   ]
  },
  {
   "cell_type": "code",
   "execution_count": 35,
   "metadata": {
    "collapsed": false
   },
   "outputs": [
    {
     "name": "stdout",
     "output_type": "stream",
     "text": [
      "hello world\n"
     ]
    }
   ],
   "source": [
    "headers.print_headers(True)"
   ]
  },
  {
   "cell_type": "code",
   "execution_count": 6,
   "metadata": {
    "collapsed": false
   },
   "outputs": [
    {
     "data": {
      "text/plain": [
       "0"
      ]
     },
     "execution_count": 6,
     "metadata": {},
     "output_type": "execute_result"
    }
   ],
   "source": [
    "str_list = ['a', 'aa', 'bb', 'a']\n",
    "str_list.count('b')"
   ]
  },
  {
   "cell_type": "code",
   "execution_count": null,
   "metadata": {
    "collapsed": true
   },
   "outputs": [],
   "source": [
    "def gen_toc(headers):\n",
    "    "
   ]
  },
  {
   "cell_type": "code",
   "execution_count": 118,
   "metadata": {
    "collapsed": true
   },
   "outputs": [],
   "source": [
    "def retrieve_plain_headers(input_fn):\n",
    "    try:\n",
    "        md_f = open(input_fn, 'r')\n",
    "    except:\n",
    "        raise OSError(\"Fail to open the file: \", input_fn)\n",
    "\n",
    "    headers = []\n",
    "    for line in md_f:\n",
    "        strip_line = line.strip()\n",
    "        if len(strip_line) > 0 and strip_line[0] == '#':\n",
    "            head, sep, tail = strip_line.partition(' ')\n",
    "            num_of_sharp = len(head)  # count how many '#' there are\n",
    "            section_header = tail.strip()\n",
    "            new_header = header(num_of_sharp, section_header)\n",
    "            \n",
    "            headers.append(header)\n",
    "\n",
    "    return headers"
   ]
  },
  {
   "cell_type": "code",
   "execution_count": 7,
   "metadata": {
    "collapsed": true
   },
   "outputs": [],
   "source": [
    "def get_top_level(headers):\n",
    "    return min(headers, key = lambda item:item[0])[0]\n",
    "\n",
    "def shift_level(headers, top_level):\n",
    "    return [(item[0] - top_level + 1, item[1]) for item in headers]"
   ]
  },
  {
   "cell_type": "code",
   "execution_count": 8,
   "metadata": {
    "collapsed": false
   },
   "outputs": [
    {
     "name": "stdout",
     "output_type": "stream",
     "text": [
      "[(1, 'Overview'), (2, 'Classical Pipeline'), (2, 'Timestamp Manager'), (2, 'VLIW Pipelane'), (3, 'Mask Manager'), (3, 'Microcode Unit'), (3, 'Address Resolver'), (2, 'Device Event Dispatcher'), (2, 'Timing Control Unit'), (2, 'Binary Control'), (1, 'Example'), (2, 'Quantum Wait (`QWAIT 10000`)'), (2, 'Set Mask (`SMIS` & `SMIT`)'), (2, 'Quantum Bundle'), (3, '_pre_interval_ (`2`)'), (3, 'Single-qubit operation (`X s8`)'), (3, 'Two-qubit Operation (`CZ t17`)')]\n",
      "-  Overview\n",
      "-  Example\n"
     ]
    }
   ],
   "source": [
    "top_level = get_top_level(headers)\n",
    "headers = shift_level(headers, top_level)\n",
    "\n",
    "print(headers)\n",
    "\n",
    "add_counter = True\n",
    "\n",
    "counter = 0\n",
    "for i in range(len(headers)):\n",
    "    header = headers[i]\n",
    "    if header[0] == 1:\n",
    "        counter += 1\n",
    "        if add_counter:\n",
    "            print(\"- \", header[1])"
   ]
  },
  {
   "cell_type": "code",
   "execution_count": null,
   "metadata": {
    "collapsed": true
   },
   "outputs": [],
   "source": [
    "def gen_toc(headers):\n",
    "    top_level = get_top_level(headers)\n",
    "    headers = shift_level(headers, top_level)\n",
    "    for i in range(len(headers)):\n",
    "        for "
   ]
  },
  {
   "cell_type": "code",
   "execution_count": null,
   "metadata": {
    "collapsed": true
   },
   "outputs": [],
   "source": []
  }
 ],
 "metadata": {
  "kernelspec": {
   "display_name": "Python 3",
   "language": "python",
   "name": "python3"
  }
 },
 "nbformat": 4,
 "nbformat_minor": 2
}
