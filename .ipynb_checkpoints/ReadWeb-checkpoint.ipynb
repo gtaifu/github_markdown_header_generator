{
 "cells": [
  {
   "cell_type": "code",
   "execution_count": 90,
   "metadata": {
    "collapsed": false
   },
   "outputs": [],
   "source": [
    "import string"
   ]
  },
  {
   "cell_type": "code",
   "execution_count": 81,
   "metadata": {
    "collapsed": false
   },
   "outputs": [],
   "source": [
    "def get_content_level(strip_line):\n",
    "    head, sep, tail = strip_line.partition(' ')\n",
    "    num_of_sharp = len(head)  # count how many '#' there are\n",
    "    section_title = tail.strip()\n",
    "    return section_title, num_of_sharp - 1\n",
    "\n",
    "def retrieve_headers(input_fn):\n",
    "    headers = header('', -1, True) # the virtual root\n",
    "    with open(input_fn, encoding='utf-8', mode = 'r') as md_f:\n",
    "        for line in md_f:\n",
    "            # print(repr(line))\n",
    "            strip_line = line.strip()\n",
    "\n",
    "            if not (len(strip_line) > 0 and strip_line[0] == '#'):\n",
    "                continue\n",
    "\n",
    "            section_title, level = get_content_level(strip_line)\n",
    "            # print(\"print while reading the file. Section title: {}, level: {}\".format(section_title, level))\n",
    "            new_header = header(section_title, level)\n",
    "\n",
    "            headers.absorb(new_header)\n",
    "    \n",
    "    return headers"
   ]
  },
  {
   "cell_type": "code",
   "execution_count": 88,
   "metadata": {
    "collapsed": true
   },
   "outputs": [],
   "source": [
    "# -*- coding: utf-8 -*-\n",
    "class header():\n",
    "    def __init__(self, content='', level=-1, is_virtual=False):\n",
    "        self.is_virtual = is_virtual  # vritual header is used for the section title which directly starts from higher levels.\n",
    "        self.header_title = content\n",
    "        self.my_level = level    # level starts from 0.\n",
    "        self.my_order = 0\n",
    "        self.child_headers = []\n",
    "\n",
    "    def assign_order(self):\n",
    "        order = 1\n",
    "        for header in self.child_headers:\n",
    "            header.my_order = order\n",
    "            order = order + 1\n",
    "            header.assign_order()\n",
    "\n",
    "    def add_child_header(self, new_section_header):\n",
    "        self.child_headers.append(new_section_header)\n",
    "\n",
    "    def absorb(self, new_header):\n",
    "        if new_header.my_level <= self.my_level:\n",
    "            raise ValueError(\"The new header has a higher level ({}) than the current level({}).\".format(new_header.my_level, self.my_level))\n",
    "\n",
    "        if new_header.my_level == self.my_level + 1:\n",
    "            self.child_headers.append(new_header)\n",
    "        else:\n",
    "            if len(self.child_headers) == 0:\n",
    "                self.child_headers.append(header('', self.my_level + 1, True))\n",
    "\n",
    "            self.child_headers[-1].absorb(new_header)\n",
    "\n",
    "    def get_level_symbol(self, sym):\n",
    "        if not isinstance(sym, str):\n",
    "            raise ValueError(\"Given symbol format ({}) not correct, which must be a string.\".format(sym))\n",
    "\n",
    "        return  sym * self.my_level\n",
    "\n",
    "    def conv_title(self, header):\n",
    "        if not isinstance(header, str):\n",
    "            raise ValueError(\"Given header has type ({}). But a string is required.\".format(type(header)))\n",
    "\n",
    "        header = header.lower()  # Lower case the string\n",
    "        header.strip(string.punctuation.translate({ord('-'): None})) # remove any punction other than hypen\n",
    "        header = ' '.join(header.split()).replace(' ', '-') # change any space into a hypen\n",
    "        return header\n",
    "            \n",
    "    def get_anchor_link(self, header, existing_anchor_links):\n",
    "        new_anchor_link = self.conv_title(header)\n",
    "        num_appearance = existing_anchor_links.count(new_anchor_link)\n",
    "        existing_anchor_links.append(new_anchor_link)\n",
    "        \n",
    "        if num_appearance > 0:\n",
    "            new_anchor_link = \"{}-{}\".format(new_anchor_link, str(num_appearance))\n",
    "        \n",
    "        # print(\"new_anchor_link: \", new_anchor_link)\n",
    "        return new_anchor_link\n",
    "            \n",
    "    \n",
    "    def gen_gfm_anchor(self, existing_anchor_links=[]):\n",
    "        self.anchor = None\n",
    "        if not self.is_virtual:\n",
    "            # Generate the link to the current header\n",
    "            anchor_link = self.get_anchor_link(self.header_title, existing_anchor_links)\n",
    "\n",
    "            # print(\"header_title: {}, anchor_link: {}\\n\".format(self.header_title, anchor_link))\n",
    "            self.anchor = \"[{:s}](#{:s})\".format(indent, self.header_title, anchor_link) \n",
    "\n",
    "            \n",
    "        # generate the link to the child headers\n",
    "        for child_header in self.child_headers:\n",
    "            child_header.gen_gfm_toc()\n",
    "        \n",
    "        return toc\n",
    "\n",
    "    def print_headers(self, print_level=False, order_info=''):\n",
    "        # print(\"hello world\")\n",
    "        if self.my_level == -1:\n",
    "            new_order_info = ''\n",
    "        elif self.my_level == 0:\n",
    "            new_order_info = str(self.my_order)\n",
    "        else:\n",
    "            new_order_info = order_info + '.' + str(self.my_order)\n",
    "\n",
    "        if not self.is_virtual and self.my_level != -1:\n",
    "            print(\"{} {} {}\".format(self.get_level_symbol(' '), new_order_info, self.header_title))\n",
    "\n",
    "        for child_header in self.child_headers:\n",
    "            child_header.print_headers(print_level, new_order_info)"
   ]
  },
  {
   "cell_type": "code",
   "execution_count": 89,
   "metadata": {
    "collapsed": false
   },
   "outputs": [
    {
     "name": "stdout",
     "output_type": "stream",
     "text": [
      "   1.1.1 h3 level\n",
      " 2 h1 header\n",
      "  2.1 Good h2 Header\n",
      "  2.2 The Second h2 Header 中文\n",
      " 3 h1 Header\n",
      "   3.1.1 Direct h3 Header\n",
      "    3.1.1.1 H4 header\n",
      "  3.2 Third h2 header\n",
      "- [h3 level](#h3-level)\n",
      "- [h1 header](#h1-header)\n",
      "- [Good h2 Header](#good-h2-header)\n",
      "- [The Second h2 Header 中文](#the-second-h2-header-中文)\n",
      "- [h1 Header](#h1-header-1)\n",
      "- [Direct h3 Header](#direct-h3-header)\n",
      "- [H4 header](#h4-header)\n",
      "- [Third h2 header](#third-h2-header)\n",
      "\n"
     ]
    }
   ],
   "source": [
    "input_fn = r\"Example.md\"\n",
    "headers = retrieve_headers(input_fn)\n",
    "headers.assign_order()\n",
    "headers.print_headers(True)\n",
    "print(headers.gen_gfm_toc())\n"
   ]
  },
  {
   "cell_type": "code",
   "execution_count": 39,
   "metadata": {
    "collapsed": false
   },
   "outputs": [
    {
     "name": "stdout",
     "output_type": "stream",
     "text": [
      "0 00e9 Ll LATIN SMALL LETTER E WITH ACUTE\n",
      "1 0bf2 No TAMIL NUMBER ONE THOUSAND\n",
      "2 0f84 Mn TIBETAN MARK HALANTA\n",
      "3 1770 Lo TAGBANWA LETTER SA\n",
      "4 33af So SQUARE RAD OVER S SQUARED\n",
      "1000.0\n"
     ]
    }
   ],
   "source": [
    "import unicodedata\n",
    "\n",
    "u = chr(233) + chr(0x0bf2) + chr(3972) + chr(6000) + chr(13231)\n",
    "\n",
    "for i, c in enumerate(u):\n",
    "    print(i, '%04x' % ord(c), unicodedata.category(c), end=\" \")\n",
    "    print(unicodedata.name(c))\n",
    "\n",
    "# Get numeric value of second character\n",
    "print(unicodedata.numeric(u[1]))"
   ]
  },
  {
   "cell_type": "code",
   "execution_count": 35,
   "metadata": {
    "collapsed": false
   },
   "outputs": [
    {
     "name": "stdout",
     "output_type": "stream",
     "text": [
      "hello world\n"
     ]
    }
   ],
   "source": [
    "headers.print_headers(True)"
   ]
  },
  {
   "cell_type": "code",
   "execution_count": 6,
   "metadata": {
    "collapsed": false
   },
   "outputs": [
    {
     "data": {
      "text/plain": [
       "0"
      ]
     },
     "execution_count": 6,
     "metadata": {},
     "output_type": "execute_result"
    }
   ],
   "source": [
    "str_list = ['a', 'aa', 'bb', 'a']\n",
    "str_list.count('b')"
   ]
  },
  {
   "cell_type": "code",
   "execution_count": null,
   "metadata": {
    "collapsed": true
   },
   "outputs": [],
   "source": [
    "def gen_toc(headers):\n",
    "    "
   ]
  },
  {
   "cell_type": "code",
   "execution_count": 118,
   "metadata": {
    "collapsed": true
   },
   "outputs": [],
   "source": [
    "def retrieve_plain_headers(input_fn):\n",
    "    try:\n",
    "        md_f = open(input_fn, 'r')\n",
    "    except:\n",
    "        raise OSError(\"Fail to open the file: \", input_fn)\n",
    "\n",
    "    headers = []\n",
    "    for line in md_f:\n",
    "        strip_line = line.strip()\n",
    "        if len(strip_line) > 0 and strip_line[0] == '#':\n",
    "            head, sep, tail = strip_line.partition(' ')\n",
    "            num_of_sharp = len(head)  # count how many '#' there are\n",
    "            section_header = tail.strip()\n",
    "            new_header = header(num_of_sharp, section_header)\n",
    "            \n",
    "            headers.append(header)\n",
    "\n",
    "    return headers"
   ]
  },
  {
   "cell_type": "code",
   "execution_count": 7,
   "metadata": {
    "collapsed": true
   },
   "outputs": [],
   "source": [
    "def get_top_level(headers):\n",
    "    return min(headers, key = lambda item:item[0])[0]\n",
    "\n",
    "def shift_level(headers, top_level):\n",
    "    return [(item[0] - top_level + 1, item[1]) for item in headers]"
   ]
  },
  {
   "cell_type": "code",
   "execution_count": 8,
   "metadata": {
    "collapsed": false
   },
   "outputs": [
    {
     "name": "stdout",
     "output_type": "stream",
     "text": [
      "[(1, 'Overview'), (2, 'Classical Pipeline'), (2, 'Timestamp Manager'), (2, 'VLIW Pipelane'), (3, 'Mask Manager'), (3, 'Microcode Unit'), (3, 'Address Resolver'), (2, 'Device Event Dispatcher'), (2, 'Timing Control Unit'), (2, 'Binary Control'), (1, 'Example'), (2, 'Quantum Wait (`QWAIT 10000`)'), (2, 'Set Mask (`SMIS` & `SMIT`)'), (2, 'Quantum Bundle'), (3, '_pre_interval_ (`2`)'), (3, 'Single-qubit operation (`X s8`)'), (3, 'Two-qubit Operation (`CZ t17`)')]\n",
      "-  Overview\n",
      "-  Example\n"
     ]
    }
   ],
   "source": [
    "top_level = get_top_level(headers)\n",
    "headers = shift_level(headers, top_level)\n",
    "\n",
    "print(headers)\n",
    "\n",
    "add_counter = True\n",
    "\n",
    "counter = 0\n",
    "for i in range(len(headers)):\n",
    "    header = headers[i]\n",
    "    if header[0] == 1:\n",
    "        counter += 1\n",
    "        if add_counter:\n",
    "            print(\"- \", header[1])"
   ]
  },
  {
   "cell_type": "code",
   "execution_count": null,
   "metadata": {
    "collapsed": true
   },
   "outputs": [],
   "source": [
    "def gen_toc(headers):\n",
    "    top_level = get_top_level(headers)\n",
    "    headers = shift_level(headers, top_level)\n",
    "    for i in range(len(headers)):\n",
    "        for "
   ]
  },
  {
   "cell_type": "code",
   "execution_count": null,
   "metadata": {
    "collapsed": true
   },
   "outputs": [],
   "source": []
  }
 ],
 "metadata": {
  "kernelspec": {
   "display_name": "Python 3",
   "language": "python",
   "name": "python3"
  },
  "language_info": {
   "codemirror_mode": {
    "name": "ipython",
    "version": 3
   },
   "file_extension": ".py",
   "mimetype": "text/x-python",
   "name": "python",
   "nbconvert_exporter": "python",
   "pygments_lexer": "ipython3",
   "version": "3.6.0"
  }
 },
 "nbformat": 4,
 "nbformat_minor": 2
}
